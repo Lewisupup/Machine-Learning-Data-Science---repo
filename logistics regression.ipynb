{
 "cells": [
  {
   "cell_type": "markdown",
   "id": "528db13a",
   "metadata": {},
   "source": [
    "# Data Scientist assessment"
   ]
  },
  {
   "cell_type": "markdown",
   "id": "a86e2917",
   "metadata": {},
   "source": [
    "# Question 3"
   ]
  },
  {
   "cell_type": "code",
   "execution_count": 36,
   "id": "7c424a6a",
   "metadata": {},
   "outputs": [],
   "source": [
    "# import libraries\n",
    "import numpy as np\n",
    "from numpy import log, dot, exp, shape\n",
    "from sklearn.datasets import make_classification\n",
    "from sklearn.model_selection import train_test_split\n",
    "from matplotlib import pyplot as plt"
   ]
  },
  {
   "cell_type": "code",
   "execution_count": 2,
   "id": "12d889f2",
   "metadata": {},
   "outputs": [
    {
     "data": {
      "text/plain": [
       "((100, 4), (100,))"
      ]
     },
     "execution_count": 2,
     "metadata": {},
     "output_type": "execute_result"
    }
   ],
   "source": [
    "# Create data sample for testing purpose\n",
    "X, y = make_classification(n_features = 4, random_state = 42)\n",
    "shape(X), shape(y)"
   ]
  },
  {
   "cell_type": "code",
   "execution_count": 3,
   "id": "d8aa877e",
   "metadata": {},
   "outputs": [
    {
     "data": {
      "text/plain": [
       "((80, 4), (80,))"
      ]
     },
     "execution_count": 3,
     "metadata": {},
     "output_type": "execute_result"
    }
   ],
   "source": [
    "# Split data into training set & testing set\n",
    "X_train, X_test, y_train, y_test = train_test_split(X, y, test_size = 0.2, random_state = 42)\n",
    "shape(X_train), shape(y_train)"
   ]
  },
  {
   "cell_type": "code",
   "execution_count": 28,
   "id": "5638a8f3",
   "metadata": {},
   "outputs": [],
   "source": [
    "class LogisticRegression:    \n",
    "    # Mean-variance normalisation \n",
    "    def standardization(self, X):\n",
    "        for i in range(len(X[0])):\n",
    "            X[:, i] = (X[:, i] - np.mean(X[:, i])) / np.std(X[:, i])\n",
    "\n",
    "        return X\n",
    "\n",
    "\n",
    "    # Define sigmoid, h(z) = 1/(1 + e ** -z)\n",
    "    def sigmoid(self, z):\n",
    "        return 1 / (1 + exp(-z))\n",
    "\n",
    "\n",
    "    # Initialize starting point & adding intercept\n",
    "    def initialize(self, X):\n",
    "        weights = np.zeros((len(X[0]) + 1, 1))\n",
    "        X = np.c_[np.ones((len(X), 1)), X]\n",
    "\n",
    "        return weights, X\n",
    "\n",
    "    # Fitting\n",
    "    # alpha: learning rate, iter: maximum number of iteration\n",
    "    def fit(self, X, y, alpha = 0.001, iter = 500):\n",
    "        weights, X = self.initialize(X)\n",
    "\n",
    "        # MLE estimation\n",
    "        # Maximise log likelihood <==> minimise loss function\n",
    "        # J = -ylog(h(z)) - (1 - y)log(1 - h(z)), h is sigmoid, z = wx + b\n",
    "        def cost(theta):\n",
    "            z = dot(X, theta)\n",
    "\n",
    "            cost_0 = y.T.dot(log(self.sigmoid(z)))\n",
    "            cost_1 = (1 - y).T.dot(log(1 - self.sigmoid(z)))\n",
    "\n",
    "            return (-cost_0 - cost_1) / len(y)\n",
    "\n",
    "        # Gradient Boosting for minimisation\n",
    "        # Calculate gradient: Chain rule\n",
    "        # dJ/dw = dJ/dh * dh/dz * dz/dw\n",
    "\n",
    "        # X^T * (h(z) - y)\n",
    "        cost_list = np.zeros(iter)\n",
    "        for i in range(iter):\n",
    "            weights -= alpha * dot(X.T, self.sigmoid(dot(X, weights)) - np.reshape(y, (len(y), 1)))\n",
    "            cost_list[i] = cost(weights)\n",
    "        \n",
    "        self.weight = weights\n",
    "\n",
    "        return cost_list\n",
    "\n",
    "\n",
    "    # Prediction\n",
    "    def predict(self, X):\n",
    "        z = dot(self.initialize(X)[1], self.weight)\n",
    "        \n",
    "        ret = []\n",
    "        for i in range(len(z)):\n",
    "            if self.sigmoid(z[i]) > 0.5:\n",
    "                ret.append(1)\n",
    "            else:\n",
    "                ret.append(0)\n",
    "        \n",
    "        return ret\n",
    "    \n",
    "    # f1_score metric\n",
    "    def F1_score(self, y_hat, y):\n",
    "        tp = tn = fp = fn = 0\n",
    "        for i in range(len(y)):\n",
    "            if y_hat[i] == 1 and y[i] == 1:\n",
    "                tp += 1\n",
    "            if y_hat[i] == 1 and y[i] == 0:\n",
    "                fp += 1\n",
    "            if y_hat[i] == 0 and y[i] == 1:\n",
    "                fn += 1\n",
    "            if y_hat[i] == 0 and y[i] == 0:\n",
    "                tn += 1\n",
    "        \n",
    "        precision = tp / (tp + fp)\n",
    "        recall = tp / (tp + fn)\n",
    "        \n",
    "        return 2 * precision * recall / (precision + recall)"
   ]
  },
  {
   "cell_type": "code",
   "execution_count": 29,
   "id": "906318d4",
   "metadata": {},
   "outputs": [
    {
     "name": "stdout",
     "output_type": "stream",
     "text": [
      "1.0\n",
      "0.9866666666666666\n"
     ]
    }
   ],
   "source": [
    "# Experiment\n",
    "logistic_regression = LogisticRegression()\n",
    "\n",
    "model = logistic_regression.fit(X_train, y_train)\n",
    "y_pred = logistic_regression.predict(X_test)\n",
    "y_train_pred = logistic_regression.predict(X_train)\n",
    "\n",
    "print(logistic_regression.F1_score(y_pred, y_test))\n",
    "print(logistic_regression.F1_score(y_train_pred, y_train))"
   ]
  },
  {
   "cell_type": "code",
   "execution_count": 8,
   "id": "7900a16f",
   "metadata": {},
   "outputs": [
    {
     "data": {
      "text/plain": [
       "array([[ 0.08149706],\n",
       "       [-0.72272216],\n",
       "       [-1.13776156],\n",
       "       [-1.63910142],\n",
       "       [ 2.30688063]])"
      ]
     },
     "execution_count": 8,
     "metadata": {},
     "output_type": "execute_result"
    }
   ],
   "source": [
    "logistic_regression.weight"
   ]
  },
  {
   "cell_type": "markdown",
   "id": "698e9160",
   "metadata": {},
   "source": [
    "# Question 4"
   ]
  },
  {
   "cell_type": "markdown",
   "id": "7122e482",
   "metadata": {},
   "source": [
    "<b> We build up ROC and Precision-Recall functions based on the experiment conducted in Question 3</b>"
   ]
  },
  {
   "cell_type": "code",
   "execution_count": 16,
   "id": "ede35317",
   "metadata": {},
   "outputs": [
    {
     "name": "stdout",
     "output_type": "stream",
     "text": [
      "[[ 0.08149706]\n",
      " [-0.72272216]\n",
      " [-1.13776156]\n",
      " [-1.63910142]\n",
      " [ 2.30688063]]\n"
     ]
    }
   ],
   "source": [
    "# Collect weight(parameters)\n",
    "print(logistic_regression.weight)\n",
    "weight = logistic_regression.weight"
   ]
  },
  {
   "cell_type": "code",
   "execution_count": 24,
   "id": "fb56c5cf",
   "metadata": {},
   "outputs": [
    {
     "data": {
      "text/plain": [
       "(20, 5)"
      ]
     },
     "execution_count": 24,
     "metadata": {},
     "output_type": "execute_result"
    }
   ],
   "source": [
    "# Collect data\n",
    "data = logistic_regression.initialize(X_test)[1]\n",
    "shape(data)"
   ]
  },
  {
   "cell_type": "code",
   "execution_count": 48,
   "id": "fe66bd93",
   "metadata": {},
   "outputs": [],
   "source": [
    "# build up ROC curve\n",
    "def ROC_builder(X, Y, weight, threshold):\n",
    "    TPR, FPR = [0] * len(threshold), [0] * len(threshold)\n",
    "    z = dot(X, weight)\n",
    "    \n",
    "    ret = []\n",
    "    for i in range(len(threshold)):\n",
    "        tmp = []\n",
    "        for j in range(len(z)):\n",
    "            prob = logistic_regression.sigmoid(z[j])\n",
    "            \n",
    "            if prob >= threshold[i]:\n",
    "                tmp.append(1)\n",
    "            else:\n",
    "                tmp.append(0)\n",
    "        \n",
    "        ret.append(tmp)\n",
    "    \n",
    "    # Calculate TPR, FPR, precision\n",
    "    def metric_builder(ret, Y):\n",
    "        TPR, FPR, precision = [], [], []\n",
    "        for p in range(len(ret)):\n",
    "            y_hat = ret[p]\n",
    "            \n",
    "            tp = tn = fp = fn = 0\n",
    "            for q in range(len(Y)):\n",
    "                if y_hat[q] == 1 and Y[q] == 1:\n",
    "                    tp += 1\n",
    "                if y_hat[q] == 0 and Y[q] == 1:\n",
    "                    fn += 1\n",
    "                if y_hat[q] == 1 and Y[q] == 0:\n",
    "                    fp += 1\n",
    "                if y_hat[q] == 0 and Y[q] == 0:\n",
    "                    tn += 1\n",
    "            \n",
    "            TPR.append(tp / (tp + fn)) \n",
    "            FPR.append(fp /(fp + tn)) \n",
    "            precision.append(tp / (tp + fp) if (tp + fp) else 0) \n",
    "            \n",
    "        \n",
    "        return TPR, FPR, precision\n",
    "    \n",
    "    return metric_builder(ret, Y)"
   ]
  },
  {
   "cell_type": "code",
   "execution_count": 57,
   "id": "585abafb",
   "metadata": {},
   "outputs": [
    {
     "data": {
      "text/plain": [
       "[<matplotlib.lines.Line2D at 0x2aa79a473d0>]"
      ]
     },
     "execution_count": 57,
     "metadata": {},
     "output_type": "execute_result"
    },
    {
     "data": {
      "image/png": "[encoded data removed]",
      "text/plain": [
       "<Figure size 640x480 with 1 Axes>"
      ]
     },
     "metadata": {},
     "output_type": "display_data"
    }
   ],
   "source": [
    "# We can see the classifier perform well\n",
    "TPR, FPR, precision = ROC_builder(data, y_test, weight, [1, 0.9, 0.8, 0.7, 0.6, 0.5, 0.4, 0.3, 0.2, 0.1, 0])\n",
    "\n",
    "plt.title(\"ROC Curve\", fontsize=20)\n",
    "plt.xlabel(\"False Positive Rate\", fontsize=16)\n",
    "plt.ylabel(\"True Positive Rate\", fontsize=16)\n",
    "plt.plot(FPR, TPR)"
   ]
  },
  {
   "cell_type": "code",
   "execution_count": 58,
   "id": "fd731795",
   "metadata": {},
   "outputs": [
    {
     "data": {
      "text/plain": [
       "[<matplotlib.lines.Line2D at 0x2aa79d544f0>]"
      ]
     },
     "execution_count": 58,
     "metadata": {},
     "output_type": "execute_result"
    },
    {
     "data": {
      "image/png": "[encoded data removed]",
      "text/plain": [
       "<Figure size 640x480 with 1 Axes>"
      ]
     },
     "metadata": {},
     "output_type": "display_data"
    }
   ],
   "source": [
    "# Precison-Recall curve also performs well\n",
    "plt.title(\"Precision-Recall Curve\", fontsize=16)\n",
    "plt.xlabel(\"Recall\", fontsize=16)\n",
    "plt.ylabel(\"Precision\", fontsize=16)\n",
    "plt.plot(TPR, precision)"
   ]
  },
  {
   "cell_type": "markdown",
   "id": "8a07360d",
   "metadata": {},
   "source": [
    "<b> END </b>"
   ]
  }
 ],
 "metadata": {
  "kernelspec": {
   "display_name": "Python 3 (ipykernel)",
   "language": "python",
   "name": "python3"
  },
  "language_info": {
   "codemirror_mode": {
    "name": "ipython",
    "version": 3
   },
   "file_extension": ".py",
   "mimetype": "text/x-python",
   "name": "python",
   "nbconvert_exporter": "python",
   "pygments_lexer": "ipython3",
   "version": "3.10.8"
  }
 },
 "nbformat": 4,
 "nbformat_minor": 5
}
